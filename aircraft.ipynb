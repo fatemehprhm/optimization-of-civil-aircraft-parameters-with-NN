{
 "cells": [
  {
   "cell_type": "markdown",
   "metadata": {},
   "source": [
    "When training a machine learning model, we would like to have the ability to monitor the model performance and perform certain actions depending on those performance measures. That’s where Keras Callbacks come in.\n",
    "\n",
    "EarlyStopping() has a few options and by default:\n",
    "\n",
    "1.monitor='val_loss': to use validation loss as performance measure to terminate the training.\n",
    "\n",
    "2.patience=0: is the number of epochs with no improvement. The value 0 means the training is terminated as soon as the performance measure gets worse from one epoch to the next.\n",
    "\n",
    "tf.compat: Runs the same on TensorFlow 1.15.0 and 2.0.0, even though session and placeholders were deprecated in 2.x. Likewise, tf.compat.v2 allows you to use things introduced in 2.x from 1.x. \n",
    "\n",
    "logging.set_verbosity: If you set it to the level as displayed (INFO), then TensorFlow will tell you all messages that have the label INFO (or more critical)\n",
    "\n",
    "A metric is a function that is used to judge the performance of your model.\n",
    "\n",
    "Accuracy class\n",
    "\n",
    "tf.keras.metrics.Accuracy(name=\"accuracy\", dtype=None)\n",
    "\n",
    "Calculates how often predictions equal labels."
   ]
  },
  {
   "cell_type": "code",
   "execution_count": 1,
   "metadata": {
    "tags": []
   },
   "outputs": [
    {
     "name": "stdout",
     "output_type": "stream",
     "text": [
      "Libraries are imported.\n"
     ]
    }
   ],
   "source": [
    "import pandas as pd\n",
    "import matplotlib.pyplot as plt\n",
    "import tensorflow as tf\n",
    "import seaborn as sns\n",
    "import numpy as np\n",
    "import os\n",
    "\n",
    "from utils import *\n",
    "from sklearn.model_selection import train_test_split\n",
    "from tensorflow.keras.models import Sequential\n",
    "from tensorflow.keras.layers import Dense, Dropout\n",
    "from tensorflow.keras.callbacks import EarlyStopping, LambdaCallback\n",
    "\n",
    "%matplotlib inline \n",
    "\n",
    "tf.compat.v1.logging.set_verbosity(tf.compat.v1.logging.ERROR)\n",
    "\n",
    "print('Libraries are imported.')"
   ]
  },
  {
   "cell_type": "markdown",
   "metadata": {},
   "source": [
    "## Importing Data\n",
    "\n",
    "The dataset is saved in a `data.csv` file."
   ]
  },
  {
   "cell_type": "code",
   "execution_count": 2,
   "metadata": {},
   "outputs": [
    {
     "data": {
      "text/html": [
       "<div>\n",
       "<style scoped>\n",
       "    .dataframe tbody tr th:only-of-type {\n",
       "        vertical-align: middle;\n",
       "    }\n",
       "\n",
       "    .dataframe tbody tr th {\n",
       "        vertical-align: top;\n",
       "    }\n",
       "\n",
       "    .dataframe thead th {\n",
       "        text-align: right;\n",
       "    }\n",
       "</style>\n",
       "<table border=\"1\" class=\"dataframe\">\n",
       "  <thead>\n",
       "    <tr style=\"text-align: right;\">\n",
       "      <th></th>\n",
       "      <th>Max Pax</th>\n",
       "      <th>Range</th>\n",
       "      <th>Take off Weight</th>\n",
       "      <th>Empty Weight</th>\n",
       "      <th>S gross</th>\n",
       "      <th>Thrust</th>\n",
       "      <th>Lenght</th>\n",
       "      <th>Height</th>\n",
       "      <th>Span</th>\n",
       "    </tr>\n",
       "  </thead>\n",
       "  <tbody>\n",
       "    <tr>\n",
       "      <th>0</th>\n",
       "      <td>56</td>\n",
       "      <td>1220</td>\n",
       "      <td>38.000</td>\n",
       "      <td>22.500</td>\n",
       "      <td>119.00</td>\n",
       "      <td>23810.0</td>\n",
       "      <td>30.58</td>\n",
       "      <td>8.08</td>\n",
       "      <td>25.55</td>\n",
       "    </tr>\n",
       "    <tr>\n",
       "      <th>1</th>\n",
       "      <td>195</td>\n",
       "      <td>10040</td>\n",
       "      <td>151.315</td>\n",
       "      <td>64.000</td>\n",
       "      <td>283.40</td>\n",
       "      <td>76000.0</td>\n",
       "      <td>46.61</td>\n",
       "      <td>12.93</td>\n",
       "      <td>44.42</td>\n",
       "    </tr>\n",
       "    <tr>\n",
       "      <th>2</th>\n",
       "      <td>186</td>\n",
       "      <td>6700</td>\n",
       "      <td>162.000</td>\n",
       "      <td>69.400</td>\n",
       "      <td>279.55</td>\n",
       "      <td>92600.0</td>\n",
       "      <td>53.12</td>\n",
       "      <td>12.35</td>\n",
       "      <td>43.20</td>\n",
       "    </tr>\n",
       "    <tr>\n",
       "      <th>3</th>\n",
       "      <td>219</td>\n",
       "      <td>6920</td>\n",
       "      <td>151.315</td>\n",
       "      <td>66.224</td>\n",
       "      <td>283.40</td>\n",
       "      <td>76000.0</td>\n",
       "      <td>46.61</td>\n",
       "      <td>12.93</td>\n",
       "      <td>44.42</td>\n",
       "    </tr>\n",
       "    <tr>\n",
       "      <th>4</th>\n",
       "      <td>129</td>\n",
       "      <td>4330</td>\n",
       "      <td>76.655</td>\n",
       "      <td>39.778</td>\n",
       "      <td>157.90</td>\n",
       "      <td>43500.0</td>\n",
       "      <td>40.59</td>\n",
       "      <td>10.36</td>\n",
       "      <td>32.92</td>\n",
       "    </tr>\n",
       "  </tbody>\n",
       "</table>\n",
       "</div>"
      ],
      "text/plain": [
       "   Max Pax  Range  Take off Weight  Empty Weight  S gross   Thrust  Lenght  \\\n",
       "0       56   1220           38.000        22.500   119.00  23810.0   30.58   \n",
       "1      195  10040          151.315        64.000   283.40  76000.0   46.61   \n",
       "2      186   6700          162.000        69.400   279.55  92600.0   53.12   \n",
       "3      219   6920          151.315        66.224   283.40  76000.0   46.61   \n",
       "4      129   4330           76.655        39.778   157.90  43500.0   40.59   \n",
       "\n",
       "   Height   Span  \n",
       "0    8.08  25.55  \n",
       "1   12.93  44.42  \n",
       "2   12.35  43.20  \n",
       "3   12.93  44.42  \n",
       "4   10.36  32.92  "
      ]
     },
     "execution_count": 2,
     "metadata": {},
     "output_type": "execute_result"
    }
   ],
   "source": [
    "column_names = [\"Max Pax\"\t,\"Range\",\t\"Take off Weight\",\t\"Empty Weight\",\t\"S gross\",\t\"Thrust\",\t\"Lenght\", \"Height\", \"Span\"]\n",
    "df = pd.read_csv('aircraft.csv', names = column_names) #Importing csv file data.csv and storing the data in 'df'\n",
    "df.head() "
   ]
  },
  {
   "cell_type": "code",
   "execution_count": 3,
   "metadata": {},
   "outputs": [
    {
     "data": {
      "image/png": "[encoded data removed]",
      "text/plain": [
       "<Figure size 432x288 with 1 Axes>"
      ]
     },
     "metadata": {
      "needs_background": "light"
     },
     "output_type": "display_data"
    }
   ],
   "source": [
    "h1 = sns.distplot(df['Range'])\n",
    "plt.show()"
   ]
  },
  {
   "cell_type": "code",
   "execution_count": 4,
   "metadata": {},
   "outputs": [
    {
     "data": {
      "image/png": "[encoded data removed]",
      "text/plain": [
       "<Figure size 432x288 with 2 Axes>"
      ]
     },
     "metadata": {
      "needs_background": "light"
     },
     "output_type": "display_data"
    }
   ],
   "source": [
    "sp2 = sns.heatmap(df.corr(),annot = True) "
   ]
  },
  {
   "cell_type": "markdown",
   "metadata": {},
   "source": [
    "## Checking For Missing Data\n"
   ]
  },
  {
   "cell_type": "code",
   "execution_count": 5,
   "metadata": {},
   "outputs": [
    {
     "data": {
      "text/plain": [
       "Max Pax            0\n",
       "Range              0\n",
       "Take off Weight    0\n",
       "Empty Weight       0\n",
       "S gross            0\n",
       "Thrust             0\n",
       "Lenght             0\n",
       "Height             0\n",
       "Span               0\n",
       "dtype: int64"
      ]
     },
     "execution_count": 5,
     "metadata": {},
     "output_type": "execute_result"
    }
   ],
   "source": [
    "df.isna().sum() "
   ]
  },
  {
   "cell_type": "markdown",
   "metadata": {},
   "source": [
    "## Data Normalization"
   ]
  },
  {
   "cell_type": "code",
   "execution_count": 6,
   "metadata": {},
   "outputs": [
    {
     "data": {
      "text/html": [
       "<div>\n",
       "<style scoped>\n",
       "    .dataframe tbody tr th:only-of-type {\n",
       "        vertical-align: middle;\n",
       "    }\n",
       "\n",
       "    .dataframe tbody tr th {\n",
       "        vertical-align: top;\n",
       "    }\n",
       "\n",
       "    .dataframe thead th {\n",
       "        text-align: right;\n",
       "    }\n",
       "</style>\n",
       "<table border=\"1\" class=\"dataframe\">\n",
       "  <thead>\n",
       "    <tr style=\"text-align: right;\">\n",
       "      <th></th>\n",
       "      <th>Max Pax</th>\n",
       "      <th>Range</th>\n",
       "      <th>Take off Weight</th>\n",
       "      <th>Empty Weight</th>\n",
       "      <th>S gross</th>\n",
       "      <th>Thrust</th>\n",
       "      <th>Lenght</th>\n",
       "      <th>Height</th>\n",
       "      <th>Span</th>\n",
       "    </tr>\n",
       "  </thead>\n",
       "  <tbody>\n",
       "    <tr>\n",
       "      <th>0</th>\n",
       "      <td>-1.146895</td>\n",
       "      <td>-1.158944</td>\n",
       "      <td>-0.805293</td>\n",
       "      <td>-0.802812</td>\n",
       "      <td>-0.589610</td>\n",
       "      <td>-0.849382</td>\n",
       "      <td>-1.048210</td>\n",
       "      <td>-1.105361</td>\n",
       "      <td>-0.998191</td>\n",
       "    </tr>\n",
       "    <tr>\n",
       "      <th>1</th>\n",
       "      <td>-0.156068</td>\n",
       "      <td>0.972528</td>\n",
       "      <td>0.204752</td>\n",
       "      <td>-0.018314</td>\n",
       "      <td>0.527923</td>\n",
       "      <td>-0.064044</td>\n",
       "      <td>0.117888</td>\n",
       "      <td>0.135853</td>\n",
       "      <td>0.394806</td>\n",
       "    </tr>\n",
       "    <tr>\n",
       "      <th>2</th>\n",
       "      <td>-0.220222</td>\n",
       "      <td>0.165372</td>\n",
       "      <td>0.299994</td>\n",
       "      <td>0.083765</td>\n",
       "      <td>0.501752</td>\n",
       "      <td>0.185747</td>\n",
       "      <td>0.591457</td>\n",
       "      <td>-0.012581</td>\n",
       "      <td>0.304745</td>\n",
       "    </tr>\n",
       "    <tr>\n",
       "      <th>3</th>\n",
       "      <td>0.015010</td>\n",
       "      <td>0.218538</td>\n",
       "      <td>0.204752</td>\n",
       "      <td>0.023727</td>\n",
       "      <td>0.527923</td>\n",
       "      <td>-0.064044</td>\n",
       "      <td>0.117888</td>\n",
       "      <td>0.135853</td>\n",
       "      <td>0.394806</td>\n",
       "    </tr>\n",
       "    <tr>\n",
       "      <th>4</th>\n",
       "      <td>-0.626532</td>\n",
       "      <td>-0.407370</td>\n",
       "      <td>-0.460737</td>\n",
       "      <td>-0.476196</td>\n",
       "      <td>-0.325182</td>\n",
       "      <td>-0.553093</td>\n",
       "      <td>-0.320035</td>\n",
       "      <td>-0.521862</td>\n",
       "      <td>-0.454132</td>\n",
       "    </tr>\n",
       "  </tbody>\n",
       "</table>\n",
       "</div>"
      ],
      "text/plain": [
       "    Max Pax     Range  Take off Weight  Empty Weight   S gross    Thrust  \\\n",
       "0 -1.146895 -1.158944        -0.805293     -0.802812 -0.589610 -0.849382   \n",
       "1 -0.156068  0.972528         0.204752     -0.018314  0.527923 -0.064044   \n",
       "2 -0.220222  0.165372         0.299994      0.083765  0.501752  0.185747   \n",
       "3  0.015010  0.218538         0.204752      0.023727  0.527923 -0.064044   \n",
       "4 -0.626532 -0.407370        -0.460737     -0.476196 -0.325182 -0.553093   \n",
       "\n",
       "     Lenght    Height      Span  \n",
       "0 -1.048210 -1.105361 -0.998191  \n",
       "1  0.117888  0.135853  0.394806  \n",
       "2  0.591457 -0.012581  0.304745  \n",
       "3  0.117888  0.135853  0.394806  \n",
       "4 -0.320035 -0.521862 -0.454132  "
      ]
     },
     "execution_count": 6,
     "metadata": {},
     "output_type": "execute_result"
    }
   ],
   "source": [
    "#df = df.iloc[:,1:] \n",
    "df_norm = (df - df.mean()) / df.std()                                                 deviation of the whole column\n",
    "df_norm.head()"
   ]
  },
  {
   "cell_type": "code",
   "execution_count": 7,
   "metadata": {
    "tags": []
   },
   "outputs": [],
   "source": [
    "#y_mean = df['Take off Weight'].mean()\n",
    "#y_std = df['Take off Weight'].std()\n",
    "\n",
    "#def convert_label_value(pred):       #Defining a function which will convert the label values back to the original distribution and return it\n",
    "#   return int(pred * y_std + y_mean)\n",
    "#y_mean = pd.Series(df.mean(axis=0).drop(['Max Pax', 'Range'])).array\n",
    "#y_std = pd.Series(df.std(axis=0).drop(['Max Pax', 'Range'])).array\n",
    "#def convert_label_value(pred):\n",
    "#    items = []#Defining a function which will convert the label values back to the original distribution and return it\n",
    " #   for item in pred:\n",
    "  #      int(pred * y_std[4] + y_mean[4])\n",
    "   #     items = items.append(item)\n",
    "    #return items\n",
    "\n"
   ]
  },
  {
   "cell_type": "code",
   "execution_count": 8,
   "metadata": {},
   "outputs": [],
   "source": [
    "yms = df.to_numpy()\n",
    "y_mean = yms.mean(axis = 0)\n",
    "y_mean = np.delete(y_mean, [0,1])\n",
    "y_std = yms.std(axis = 0)\n",
    "y_std = np.delete(y_std, [0,1])\n",
    "def convert_label_value(pred):\n",
    "    #preds = pred.to_numpy\n",
    "    result = np.multiply(pred, y_std) + y_mean\n",
    "    return result"
   ]
  },
  {
   "cell_type": "markdown",
   "metadata": {},
   "source": [
    "## Creating Training and Test Sets"
   ]
  },
  {
   "cell_type": "code",
   "execution_count": 9,
   "metadata": {},
   "outputs": [
    {
     "data": {
      "text/html": [
       "<div>\n",
       "<style scoped>\n",
       "    .dataframe tbody tr th:only-of-type {\n",
       "        vertical-align: middle;\n",
       "    }\n",
       "\n",
       "    .dataframe tbody tr th {\n",
       "        vertical-align: top;\n",
       "    }\n",
       "\n",
       "    .dataframe thead th {\n",
       "        text-align: right;\n",
       "    }\n",
       "</style>\n",
       "<table border=\"1\" class=\"dataframe\">\n",
       "  <thead>\n",
       "    <tr style=\"text-align: right;\">\n",
       "      <th></th>\n",
       "      <th>Max Pax</th>\n",
       "      <th>Range</th>\n",
       "    </tr>\n",
       "  </thead>\n",
       "  <tbody>\n",
       "    <tr>\n",
       "      <th>0</th>\n",
       "      <td>-1.146895</td>\n",
       "      <td>-1.158944</td>\n",
       "    </tr>\n",
       "    <tr>\n",
       "      <th>1</th>\n",
       "      <td>-0.156068</td>\n",
       "      <td>0.972528</td>\n",
       "    </tr>\n",
       "    <tr>\n",
       "      <th>2</th>\n",
       "      <td>-0.220222</td>\n",
       "      <td>0.165372</td>\n",
       "    </tr>\n",
       "    <tr>\n",
       "      <th>3</th>\n",
       "      <td>0.015010</td>\n",
       "      <td>0.218538</td>\n",
       "    </tr>\n",
       "    <tr>\n",
       "      <th>4</th>\n",
       "      <td>-0.626532</td>\n",
       "      <td>-0.407370</td>\n",
       "    </tr>\n",
       "  </tbody>\n",
       "</table>\n",
       "</div>"
      ],
      "text/plain": [
       "    Max Pax     Range\n",
       "0 -1.146895 -1.158944\n",
       "1 -0.156068  0.972528\n",
       "2 -0.220222  0.165372\n",
       "3  0.015010  0.218538\n",
       "4 -0.626532 -0.407370"
      ]
     },
     "execution_count": 9,
     "metadata": {},
     "output_type": "execute_result"
    }
   ],
   "source": [
    "X = df_norm.iloc[:, :2] \n",
    "X.head()"
   ]
  },
  {
   "cell_type": "code",
   "execution_count": 10,
   "metadata": {},
   "outputs": [
    {
     "data": {
      "text/html": [
       "<div>\n",
       "<style scoped>\n",
       "    .dataframe tbody tr th:only-of-type {\n",
       "        vertical-align: middle;\n",
       "    }\n",
       "\n",
       "    .dataframe tbody tr th {\n",
       "        vertical-align: top;\n",
       "    }\n",
       "\n",
       "    .dataframe thead th {\n",
       "        text-align: right;\n",
       "    }\n",
       "</style>\n",
       "<table border=\"1\" class=\"dataframe\">\n",
       "  <thead>\n",
       "    <tr style=\"text-align: right;\">\n",
       "      <th></th>\n",
       "      <th>Take off Weight</th>\n",
       "      <th>Empty Weight</th>\n",
       "      <th>S gross</th>\n",
       "      <th>Thrust</th>\n",
       "      <th>Lenght</th>\n",
       "      <th>Height</th>\n",
       "      <th>Span</th>\n",
       "    </tr>\n",
       "  </thead>\n",
       "  <tbody>\n",
       "    <tr>\n",
       "      <th>0</th>\n",
       "      <td>-0.805293</td>\n",
       "      <td>-0.802812</td>\n",
       "      <td>-0.589610</td>\n",
       "      <td>-0.849382</td>\n",
       "      <td>-1.048210</td>\n",
       "      <td>-1.105361</td>\n",
       "      <td>-0.998191</td>\n",
       "    </tr>\n",
       "    <tr>\n",
       "      <th>1</th>\n",
       "      <td>0.204752</td>\n",
       "      <td>-0.018314</td>\n",
       "      <td>0.527923</td>\n",
       "      <td>-0.064044</td>\n",
       "      <td>0.117888</td>\n",
       "      <td>0.135853</td>\n",
       "      <td>0.394806</td>\n",
       "    </tr>\n",
       "    <tr>\n",
       "      <th>2</th>\n",
       "      <td>0.299994</td>\n",
       "      <td>0.083765</td>\n",
       "      <td>0.501752</td>\n",
       "      <td>0.185747</td>\n",
       "      <td>0.591457</td>\n",
       "      <td>-0.012581</td>\n",
       "      <td>0.304745</td>\n",
       "    </tr>\n",
       "    <tr>\n",
       "      <th>3</th>\n",
       "      <td>0.204752</td>\n",
       "      <td>0.023727</td>\n",
       "      <td>0.527923</td>\n",
       "      <td>-0.064044</td>\n",
       "      <td>0.117888</td>\n",
       "      <td>0.135853</td>\n",
       "      <td>0.394806</td>\n",
       "    </tr>\n",
       "    <tr>\n",
       "      <th>4</th>\n",
       "      <td>-0.460737</td>\n",
       "      <td>-0.476196</td>\n",
       "      <td>-0.325182</td>\n",
       "      <td>-0.553093</td>\n",
       "      <td>-0.320035</td>\n",
       "      <td>-0.521862</td>\n",
       "      <td>-0.454132</td>\n",
       "    </tr>\n",
       "  </tbody>\n",
       "</table>\n",
       "</div>"
      ],
      "text/plain": [
       "   Take off Weight  Empty Weight   S gross    Thrust    Lenght    Height  \\\n",
       "0        -0.805293     -0.802812 -0.589610 -0.849382 -1.048210 -1.105361   \n",
       "1         0.204752     -0.018314  0.527923 -0.064044  0.117888  0.135853   \n",
       "2         0.299994      0.083765  0.501752  0.185747  0.591457 -0.012581   \n",
       "3         0.204752      0.023727  0.527923 -0.064044  0.117888  0.135853   \n",
       "4        -0.460737     -0.476196 -0.325182 -0.553093 -0.320035 -0.521862   \n",
       "\n",
       "       Span  \n",
       "0 -0.998191  \n",
       "1  0.394806  \n",
       "2  0.304745  \n",
       "3  0.394806  \n",
       "4 -0.454132  "
      ]
     },
     "execution_count": 10,
     "metadata": {},
     "output_type": "execute_result"
    }
   ],
   "source": [
    "Y = df_norm.iloc[:,2:9] \n",
    "Y.head()"
   ]
  },
  {
   "cell_type": "code",
   "execution_count": 11,
   "metadata": {
    "tags": []
   },
   "outputs": [
    {
     "name": "stdout",
     "output_type": "stream",
     "text": [
      "X_arr shape:  (104, 2)\n",
      "Y_arr shape:  (104, 7)\n"
     ]
    }
   ],
   "source": [
    "X_arr = X.values\n",
    "Y_arr = Y.values\n",
    "\n",
    "print('X_arr shape: ', X_arr.shape) \n",
    "print('Y_arr shape: ', Y_arr.shape)"
   ]
  },
  {
   "cell_type": "code",
   "execution_count": 12,
   "metadata": {
    "tags": []
   },
   "outputs": [
    {
     "name": "stdout",
     "output_type": "stream",
     "text": [
      "X_train shape:  (88, 2)\n",
      "y_train shape:  (88, 7)\n",
      "X_test shape:  (16, 2)\n",
      "y_test shape:  (16, 7)\n"
     ]
    }
   ],
   "source": [
    "X_train, X_test, y_train, y_test = train_test_split(X_arr, Y_arr, test_size = 0.15, shuffle = True, random_state=3) \n",
    "\n",
    "\n",
    "print('X_train shape: ', X_train.shape)\n",
    "print('y_train shape: ', y_train.shape)\n",
    "print('X_test shape: ', X_test.shape)\n",
    "print('y_test shape: ', y_test.shape)"
   ]
  },
  {
   "cell_type": "markdown",
   "metadata": {},
   "source": [
    "## Creating the Model"
   ]
  },
  {
   "cell_type": "code",
   "execution_count": 13,
   "metadata": {
    "tags": []
   },
   "outputs": [
    {
     "name": "stdout",
     "output_type": "stream",
     "text": [
      "Model: \"sequential\"\n",
      "_________________________________________________________________\n",
      "Layer (type)                 Output Shape              Param #   \n",
      "=================================================================\n",
      "dense (Dense)                (None, 10)                30        \n",
      "_________________________________________________________________\n",
      "dense_1 (Dense)              (None, 25)                275       \n",
      "_________________________________________________________________\n",
      "dense_2 (Dense)              (None, 10)                260       \n",
      "_________________________________________________________________\n",
      "dense_3 (Dense)              (None, 7)                 77        \n",
      "=================================================================\n",
      "Total params: 642\n",
      "Trainable params: 642\n",
      "Non-trainable params: 0\n",
      "_________________________________________________________________\n"
     ]
    }
   ],
   "source": [
    "\n",
    "def get_model():\n",
    "    model = Sequential([\n",
    "        Dense(10, input_shape = (2,), activation = 'tanh'), \n",
    "        Dense(25, activation = 'tanh'),  \n",
    "        Dense(10, activation = 'tanh'),\n",
    "        Dense(7, activation = 'tanh'),\n",
    "    ])\n",
    "\n",
    "    model.compile(\n",
    "        loss='mse',    \n",
    "        optimizer='SGD'                               \n",
    "    )\n",
    "    \n",
    "    return model\n",
    " \n",
    "model = get_model()\n",
    "\n",
    "model.summary()"
   ]
  },
  {
   "cell_type": "markdown",
   "metadata": {},
   "source": [
    "## Model Training"
   ]
  },
  {
   "cell_type": "code",
   "execution_count": 14,
   "metadata": {
    "tags": []
   },
   "outputs": [],
   "source": [
    "early_stopping = EarlyStopping(monitor='val_loss', patience = 5)\n",
    "\n",
    "model = get_model()\n",
    "\n",
    "preds_on_untrained = model.predict(X_train)\n",
    "\n",
    "#Finally training the model-->\n",
    "history = model.fit(\n",
    "    X_train, y_train,\n",
    "    validation_data = (X_test, y_test),\n",
    "    batch_size = 25,\n",
    "    epochs = 500,\n",
    "    callbacks = [early_stopping],\n",
    "    verbose = 0\n",
    ")"
   ]
  },
  {
   "cell_type": "code",
   "execution_count": 15,
   "metadata": {},
   "outputs": [],
   "source": [
    "def plot_loss(history):\n",
    "    h = history.history\n",
    "    #x_lim = len(h['loss'])\n",
    "    plt.figure(figsize=(8, 8))\n",
    "    plt.plot(h['val_loss'], label = 'Validation Loss')\n",
    "    plt.plot(h['loss'], label = 'Training Loss')\n",
    "    h1 = h['loss'][-1]\n",
    "    h2 = h['val_loss'][-1]\n",
    "    print(f'Loss is: {h1:.4f} \\nvalidation Loss is: {h2:.4f}\\n')\n",
    "    plt.xlabel('Epochs')\n",
    "    plt.ylabel('Loss')\n",
    "    plt.legend()\n",
    "    plt.show()\n",
    "    return "
   ]
  },
  {
   "cell_type": "code",
   "execution_count": 16,
   "metadata": {},
   "outputs": [
    {
     "name": "stdout",
     "output_type": "stream",
     "text": [
      "Loss is: 0.2510 \n",
      "validation Loss is: 0.2118\n",
      "\n"
     ]
    },
    {
     "data": {
      "image/png": "[encoded data removed]",
      "text/plain": [
       "<Figure size 576x576 with 1 Axes>"
      ]
     },
     "metadata": {
      "needs_background": "light"
     },
     "output_type": "display_data"
    }
   ],
   "source": [
    "plot_loss(history)\n"
   ]
  },
  {
   "cell_type": "markdown",
   "metadata": {},
   "source": [
    "## Final Predictions"
   ]
  },
  {
   "cell_type": "code",
   "execution_count": 17,
   "metadata": {},
   "outputs": [],
   "source": [
    "def compare_predictions(preds1, preds2, y_test):\n",
    "    plt.figure(figsize=(8,8))\n",
    "    plt.plot(preds1, y_test, 'ro', label='Untrained Model')\n",
    "    plt.plot(preds2, y_test, 'go', label='Trained Model')\n",
    "    plt.xlabel('Preds')\n",
    "    plt.ylabel('Labels')\n",
    "    \n",
    "    y_min = min(min(y_test), min(preds1), min(preds2))\n",
    "    y_max = max(max(y_test), max(preds1), max(preds2))\n",
    "    \n",
    "    plt.xlim([y_min, y_max])\n",
    "    plt.ylim([y_min, y_max])\n",
    "    plt.plot([y_min, y_max], [y_min, y_max], 'b--')\n",
    "    plt.legend()\n",
    "    plt.show()\n",
    "    return"
   ]
  },
  {
   "cell_type": "code",
   "execution_count": 18,
   "metadata": {},
   "outputs": [
    {
     "data": {
      "image/png": "[encoded data removed]",
      "text/plain": [
       "<Figure size 576x576 with 1 Axes>"
      ]
     },
     "metadata": {
      "needs_background": "light"
     },
     "output_type": "display_data"
    }
   ],
   "source": [
    "preds_on_trained = model.predict(X_train)\n",
    "\n",
    "compare_predictions(preds_on_untrained[:,5], preds_on_trained[:,5], y_train[:,5])"
   ]
  },
  {
   "cell_type": "code",
   "execution_count": 19,
   "metadata": {},
   "outputs": [
    {
     "name": "stdout",
     "output_type": "stream",
     "text": [
      "\n",
      "Real values are is:\n",
      "\n",
      "Take off Weight 73.50 tons\n",
      "Empty Weight:42.10 tons \n",
      "S gross: 122.40 m^2\n",
      "Thrust: 54000.00 lbs\n",
      "Length: 37.57 m\n",
      "Height: 11.76 m\n",
      "Span: 34.09 m\n",
      "\n",
      "Predictions are:\n",
      "\n",
      "Take off Weight 81.68 tons\n",
      "Empty Weight:41.08 tons\n",
      "S gross: 143.61 m^2\n",
      "Thrust: 51964.74 lbs\n",
      "Length: 41.04 m\n",
      "Height: 10.93 m\n",
      "Span: 33.88 m\n",
      "\n",
      "Errors are:\n",
      "\n",
      "Take off Weight 11.13%\n",
      "Empty Weight:2.43%\n",
      "S gross: 17.33%\n",
      "Thrust: 3.77%\n",
      "Length: 9.22%\n",
      "Height: 7.02%\n",
      "Span: 0.62%\n"
     ]
    }
   ],
   "source": [
    "Input = [179, 4800]\n",
    "\n",
    "#a = int(input(\"Please enter pax number: \" ))\n",
    "#b =int(input(\"Please enter range: \" ))\n",
    "#Input = [a, b]\n",
    "X_test1 = [216.89423, 6015.6923]\n",
    "X_test2 = np.array(Input) - np.array(X_test1)\n",
    "X_test3 = np.divide(X_test2,[139.61, 4118.04391])\n",
    "X_test4 = X_test3.reshape(1,2)\n",
    "\n",
    "preds_on1 = model.predict(X_test4)\n",
    "preds_on2 = convert_label_value(preds_on1)\n",
    "preds_on = preds_on2[0]\n",
    "g = df.iloc[48, 2:].to_numpy()\n",
    "subtract = preds_on - g\n",
    "Error = abs(np.divide(subtract, g)*100)\n",
    "\n",
    "print(f'\\nReal values are is:\\n\\nTake off Weight {g[0]:.2f} tons\\nEmpty Weight:{g[1]:.2f} tons \\n\\\n",
    "S gross: {g[2]:.2f} m^2\\nThrust: {g[3]:.2f} lbs\\nLength: {g[4]:.2f} m\\nHeight: {g[5]:.2f} m\\nSpan: {g[6]:.2f} m')\n",
    "\n",
    "print(f'\\nPredictions are:\\n\\nTake off Weight {preds_on[0]:.2f} tons\\nEmpty Weight:{preds_on[1]:.2f} tons\\n\\\n",
    "S gross: {preds_on[2]:.2f} m^2\\nThrust: {preds_on[3]:.2f} lbs\\nLength: {preds_on[4]:.2f} m\\nHeight: {preds_on[5]:.2f} m\\nSpan: {preds_on[6]:.2f} m')\n",
    "\n",
    "print(f'\\nErrors are:\\n\\nTake off Weight {Error[0]:.2f}%\\nEmpty Weight:{Error[1]:.2f}%\\n\\\n",
    "S gross: {Error[2]:.2f}%\\nThrust: {Error[3]:.2f}%\\nLength: {Error[4]:.2f}%\\nHeight: {Error[5]:.2f}%\\nSpan: {Error[6]:.2f}%')"
   ]
  }
 ],
 "metadata": {
  "kernelspec": {
   "display_name": "Python 3",
   "language": "python",
   "name": "python3"
  },
  "language_info": {
   "codemirror_mode": {
    "name": "ipython",
    "version": 3
   },
   "file_extension": ".py",
   "mimetype": "text/x-python",
   "name": "python",
   "nbconvert_exporter": "python",
   "pygments_lexer": "ipython3",
   "version": "3.7.6"
  }
 },
 "nbformat": 4,
 "nbformat_minor": 4
}
